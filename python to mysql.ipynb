{
 "cells": [
  {
   "cell_type": "code",
   "execution_count": null,
   "metadata": {
    "collapsed": true
   },
   "outputs": [],
   "source": [
    "import mysql.connector\n",
    "conn = mysql.connector.connect(user='root', password='1234',host='127.0.0.1',database='lawbank')\n",
    "curs=conn.cursor()\n",
    "import os\n",
    "import codecs\n",
    "import re\n",
    "import shutil\n",
    "path = u'overall_tmp(reason_date_id)'\n",
    "bad_file = path+u'bad'\n",
    "if not os.path.exists(bad_file) :\n",
    "    os.makedirs(bad_file)\n",
    "#-----path請給檔案夾路徑---------\n",
    "for filename in os.listdir(path):\n",
    "    fullpath = os.path.join(path,filename)\n",
    "    with codecs.open(fullpath,'r','utf-8') as f :\n",
    "        b_str = f.read()\n",
    "        b_str = re.sub(u'[\\s　]',u'',b_str)\n",
    "        f.close()\n",
    "        m=re.search(u'【裁判案由】(.*)【裁判全文】(.*)相關法條', b_str,re.MULTILINE)\n",
    "        if m is not None:\n",
    "            judg_id = re.sub('.txt','',filename)\n",
    "            t =(judg_id ,m.group(2))\n",
    "            curs.execute('insert into lawbank.gogo(judg_id,judg_text) VALUES(%s,%s)',t)\n",
    "        else :\n",
    "            #print fullpath\n",
    "            shutil.move(fullpath, os.path.join(bad_file,filename))\n",
    "conn.commit()\n",
    "curs.close()\n",
    "conn.close()"
   ]
  },
  {
   "cell_type": "markdown",
   "metadata": {},
   "source": []
  }
 ],
 "metadata": {
  "kernelspec": {
   "display_name": "Python 2",
   "language": "python",
   "name": "python2"
  },
  "language_info": {
   "codemirror_mode": {
    "name": "ipython",
    "version": 2
   },
   "file_extension": ".py",
   "mimetype": "text/x-python",
   "name": "python",
   "nbconvert_exporter": "python",
   "pygments_lexer": "ipython2",
   "version": "2.7.10"
  }
 },
 "nbformat": 4,
 "nbformat_minor": 0
}
