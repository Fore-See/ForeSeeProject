{
 "cells": [
  {
   "cell_type": "code",
   "execution_count": null,
   "metadata": {
    "collapsed": true
   },
   "outputs": [],
   "source": [
    "import os\n",
    "path = 'C:/Users/Hsiao/Python/files_local_backup/text_files'\n",
    "for dv in os.listdir(path):\n",
    "    for fname in os.listdir(os.path.join(path, dv)):\n",
    "        \n",
    "        # each text file path\n",
    "        fpath = os.path.join(path, dv, fname)\n",
    "        \n",
    "        # open and read text, replace '' with '參'\n",
    "        fo = open(fpath , 'r')\n",
    "        fc = fo.read()\n",
    "        fc = '參'.join(fc.split(''))\n",
    "        fo.close()\n",
    "        \n",
    "        # open and write back into text\n",
    "        f = open(fpath , 'w')\n",
    "        f.write(fc)\n",
    "        f.close()\n",
    "        \n",
    "    # let me know when this DV is done   \n",
    "    print dv.decode('big5'), len(os.listdir(os.path.join(path, dv))), 'Done'"
   ]
  }
 ],
 "metadata": {
  "kernelspec": {
   "display_name": "Python 2",
   "language": "python",
   "name": "python2"
  },
  "language_info": {
   "codemirror_mode": {
    "name": "ipython",
    "version": 2
   },
   "file_extension": ".py",
   "mimetype": "text/x-python",
   "name": "python",
   "nbconvert_exporter": "python",
   "pygments_lexer": "ipython2",
   "version": "2.7.10"
  }
 },
 "nbformat": 4,
 "nbformat_minor": 0
}
