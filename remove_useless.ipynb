{
 "cells": [
  {
   "cell_type": "code",
   "execution_count": 1,
   "metadata": {
    "collapsed": false
   },
   "outputs": [],
   "source": [
    "ls = [u'臺北',u'士林',u'新北',u'宜蘭'\\\n",
    "     ,u'基隆',u'桃園',u'新竹',u'苗栗'\\\n",
    "     ,u'臺中',u'彰化',u'南投',u'雲林'\\\n",
    "     ,u'嘉義',u'臺南',u'高雄',u'花蓮'\\\n",
    "     ,u'臺東',u'屏東',u'澎湖',u'金門'\\\n",
    "     ,u'連江']"
   ]
  },
  {
   "cell_type": "code",
   "execution_count": null,
   "metadata": {
    "collapsed": true
   },
   "outputs": [],
   "source": [
    "'''\n",
    "for remove useless virdict\n",
    "\n",
    "os.remove (檔案路徑加名稱) 可以把檔案直接 刪掉!!!\n",
    "so same as not_choose_in_virdict[]\n",
    "'''\n",
    "# not_choose_in_virdict = [u'士林_103_訴_566',u'新北_101_訴_1678',u'新北_101_訴_123',u'臺中_103_訴_130',u'南投_93_埔小_83',u'臺南_98_南簡_334',u'高雄_87_訴_1782',u'高雄_102_岡簡_190']\n",
    "def remove(pos):\n",
    "    import os\n",
    "    place = pos\n",
    "    location = 'project\\%s\\\\'%place\n",
    "    all_files = os.path.abspath(location)\n",
    "    for x in os.listdir(all_files):\n",
    "        if x[0]!=u'c' and x[0]!=u'W':\n",
    "            name = x.split('_')[2] #擷取中間的字號去比對 \n",
    "            if name==u'海商' or name==u'消':#有這兩個的\n",
    "                os.remove('%s%s'%(location,x))#os.remove (檔案路徑加名稱) 可以把檔案直接 刪掉!!!\n",
    "                print '%s%s --delete'%(location,x)\n",
    "print 'def remove(pos) set'\n",
    "\n",
    "for i in ls:\n",
    "    remove(i)"
   ]
  },
  {
   "cell_type": "code",
   "execution_count": 35,
   "metadata": {
    "collapsed": false
   },
   "outputs": [
    {
     "name": "stdout",
     "output_type": "stream",
     "text": [
      "def isolation(pos) set\n"
     ]
    }
   ],
   "source": [
    "# -*- coding:utf-8 -*-\n",
    "'''\n",
    "for isolation useless virdict\n",
    "\n",
    "********請先在project 資料夾裡 創建一個 isolation  資料夾**********\n",
    "'''\n",
    "not_choose_in = [u'汽車旅館',u'車位',u'停車位',u'停車空間',u'停車場',u'試車',u'天車',u'吊車',u'吊車費用',u'汽車出賣人',u'公然侮辱',u'公然侮辱強制',u'強制罪',u'恐嚇',u'誹謗',u'離婚',u'貪污治罪條例',u'上訴人',u'剩餘財產分配',u'賸餘財產分配',u'專利',u'專利年費',u'運費',u'清潔費',u'燃料費',u'電費',u'電話費',u'風車台',u'風車臺',u'室內設計',u'建築設計費',u'設計費',u'室內裝潢',u'裝潢費',u'砸毀',u'車馬費',u'交際餐飲費',u'清運費',u'詐欺',u'詐騙集團',u'車手',u'停車費',u'盜領',u'現金卡',u'存款債權',u'汽車貸款',u'車料',u'假資料',u'汽車扣件',u'車縫線',u'強制性交',u'性侵',u'襲胸',u'強吻',u'漏失水',u'保育費',u'管銷費',u'贍養費',u'土地使用糾紛',u'海商法',u'刺殺',u'信用受損害',u'物之瑕疵擔保',u'承攬運送人',u'合夥',u'醫療事故',u'車心軸',u'買賣契約',u'交通船',u'船舶',u'火災',u'鐵捲門瞬間掉下',u'鐵捲門突然下降']\n",
    "\n",
    "import os\n",
    "import codecs\n",
    "\n",
    "def isolation(pos,not_choose_in):\n",
    "    try :\n",
    "        place = pos\n",
    "        location = u'project\\\\%s\\\\'%place\n",
    "        all_files = os.path.abspath(location)\n",
    "        for x in os.listdir(all_files):\n",
    "            if x[0]!=u'c' and x[0]!=u'W':\n",
    "    #             print x\n",
    "                with codecs.open(os.path.join(location,x),'r','utf-8') as f:\n",
    "                    content = f.read()\n",
    "                for nci in not_choose_in:#把 not_choose_in 裡面的東西跟讀出來的content比較\n",
    "                    if nci in content:\n",
    "                        #假如在裡面 用 os.rename 把原來的檔案 移到 project 裡的一個資料夾 isolation\n",
    "                        os.rename(os.path.join(u\"C:\\\\Users\\\\BigData\\\\Desktop\\\\python\\\\\",location,x),\n",
    "                                 os.path.join(u'C:\\\\Users\\\\BigData\\\\Desktop\\\\python\\\\project\\\\isolation',x))\n",
    "                        print x,nci\n",
    "                        break\n",
    "                        \n",
    "    except Exception as e :\n",
    "        print e\n",
    "\n",
    "print 'def isolation(pos) set'\n",
    "\n",
    "for i in ls[0:1]:\n",
    "    isolation(i,not_choose_in)\n",
    "\n",
    "print 'done'"
   ]
  },
  {
   "cell_type": "code",
   "execution_count": 34,
   "metadata": {
    "collapsed": false
   },
   "outputs": [
    {
     "name": "stdout",
     "output_type": "stream",
     "text": [
      "def isolation(pos) set\n",
      "42907\n"
     ]
    }
   ],
   "source": [
    "'''\n",
    "function count_total_files 計算目前所有 檔案數量\n",
    "'''\n",
    "def count_total_files(pos,not_choose_in):\n",
    "    total = 0\n",
    "    place = pos\n",
    "    location = u'project\\%s\\\\'%place\n",
    "    all_files = os.path.abspath(location)\n",
    "    total = len(os.listdir(all_files))\n",
    "    return total\n",
    "\n",
    "print 'def isolation(pos) set'\n",
    "\n",
    "num = 0\n",
    "for i in ls:\n",
    "    num += count_total_files(i,not_choose_in)\n",
    "print num"
   ]
  },
  {
   "cell_type": "code",
   "execution_count": 39,
   "metadata": {
    "collapsed": false
   },
   "outputs": [],
   "source": [
    "'''\n",
    "在 isolation 資料夾中 的檔案 去找 find 裡面的字 有的話會輸出成一個檔案 叫做 isoaltion fail.txt\n",
    "'''\n",
    "import os\n",
    "find = [u'車禍',u'交通事故']\n",
    "num = 0\n",
    "location = u'C:\\\\Users\\\\BigData\\\\Desktop\\\\python\\\\project\\\\isolation'\n",
    "all_files = os.path.abspath(location)\n",
    "for x in os.listdir(all_files):\n",
    "    with codecs.open(os.path.join(location,x),'r','utf-8')as f:\n",
    "        content = f.read()\n",
    "        for i in find:\n",
    "            if i in content:\n",
    "                with codecs.open('isolation fail.txt','a','utf-8') as fi:\n",
    "                    num +=1\n",
    "                    fi.write('(%d) - %s\\r\\n'%(num,x))\n",
    "print 'done'\n",
    "                \n"
   ]
  }
 ],
 "metadata": {
  "kernelspec": {
   "display_name": "Python 2",
   "language": "python",
   "name": "python2"
  },
  "language_info": {
   "codemirror_mode": {
    "name": "ipython",
    "version": 2
   },
   "file_extension": ".py",
   "mimetype": "text/x-python",
   "name": "python",
   "nbconvert_exporter": "python",
   "pygments_lexer": "ipython2",
   "version": "2.7.10"
  }
 },
 "nbformat": 4,
 "nbformat_minor": 0
}
