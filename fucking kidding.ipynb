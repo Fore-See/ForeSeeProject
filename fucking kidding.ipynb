{
 "cells": [
  {
   "cell_type": "code",
   "execution_count": 4,
   "metadata": {
    "collapsed": false
   },
   "outputs": [
    {
     "name": "stdout",
     "output_type": "stream",
     "text": [
      "-1\n"
     ]
    }
   ],
   "source": [
    "cookie='ASP.NET_SessionId=f4zysqrd3mbrcgv5jul31155; _gat=1; _ga=GA1.3.1224946460.1434551693; JubFrm-pagebox=%5EcourtFullName%3DSLDV%60%5Ekw%3D%E8%BB%8A%5Ejcatagory%3D2%5Eissimple%3D-1%5Ejt%3D%E6%90%8D%E5%AE%B3%E8%B3%A0%E5%84%9F; x=j=MS75W8xcPQRONHRsik2vrEo62yf/Csi44AgRySnTAQmqQIX6L1PX6K4ZPckIKq03uUoYVN3hjZWJ0bgUm28vA4+9qDmiH0yQ4CxFjFvWOeg5IaBnd7qiUUs8jk/gdMYoacK6Y8RRP1Z4ro/Vr4y+3/+EXw2uz5kUvKgwOLp9NhLYM2RiZWKuG1XlWXcK2vgYg8DVj9B9ji7wLXefLWdehA9G9mzMGAL8zIjfFoHIR8nPjkldOvE+bUVBsIT8aBe932zj9bSQFOEXjCnTiedU8aF5R0mYLvdJJ9yoEQeFQbxTfot+g2tybWM47FLbSsFh'\n",
    "# if cookie.find('y=p=') != -1:\n",
    "#     pos_yp = cookie.split('y=p=')\n",
    "#     cookie = pos_yp[0]+string.join(pos_yp[1].split(';')[1:],';')\n",
    "print cookie.find('y=p=')\n"
   ]
  }
 ],
 "metadata": {
  "kernelspec": {
   "display_name": "Python 2",
   "language": "python",
   "name": "python2"
  },
  "language_info": {
   "codemirror_mode": {
    "name": "ipython",
    "version": 2
   },
   "file_extension": ".py",
   "mimetype": "text/x-python",
   "name": "python",
   "nbconvert_exporter": "python",
   "pygments_lexer": "ipython2",
   "version": "2.7.10"
  }
 },
 "nbformat": 4,
 "nbformat_minor": 0
}
