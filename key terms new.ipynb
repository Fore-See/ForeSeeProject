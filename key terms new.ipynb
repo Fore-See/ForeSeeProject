{
 "cells": [
  {
   "cell_type": "code",
   "execution_count": 25,
   "metadata": {
    "collapsed": false
   },
   "outputs": [
    {
     "name": "stdout",
     "output_type": "stream",
     "text": [
      "臺灣臺北地方法院小額民事判決103年度北小字第2688號原告國泰世紀產物保險股份有限公司法定代理人吳明洋訴訟代理人徐翔裕陳倩玉張簡婷被告梁俊雄特別代理人梁鍾秀霞上列當事人間請求損害賠償事件，於中華民國103年12月9日言詞辯論終結，本院判決如下︰主文被告應給付原告新臺幣貳萬壹仟壹佰壹拾貳元，及自民國一百零三年十二月十日起至清償日止，按年息百分之五計算之利息。原告其餘之訴駁回。訴訟費用新臺幣壹仟元由被告負擔十分之六，餘由原告負擔。本判決原告勝訴部分得假執行。但被告如以新臺幣貳萬壹仟壹佰壹拾貳元為原告預供擔保，得免為假執行。事實及理由一、按因侵權行為涉訟者，得由行為地之法院管轄，民事訴訟法第15條第1項定有明文；查本件侵權行為地為臺北市○○○路0段00號前，本院自有管轄權，合先敘明。二、原告主張：被告於民國101年11月14日上午9時7分許，駕駛車號000-000號普通重型機車，沿臺北市敦化南路1段北往南方向第二車道行駛，行經該路段66號前之肇事地點，因酒後駕駛失控，過失撞及原告承保車體損失險之訴外人趙如麟沿同車道同向所駕駛之車號000-00號營業用小客車（下稱系爭車輛），致系爭車輛後車尾受損，原告已依保險契約理賠必要修復費用新臺幣（下同）37300元（其中含零件26000元、工資及塗裝11300元），爰依保險法第53條規定及侵權行為法律關係，請求被告給付系爭車輛之修復費用等語。並聲明：被告應給付原告37300元，及自起訴狀繕本送達翌日起至清償日止，按年息5%計算之利息。三、經查，原告就其主張之事實，業據提出道路交通事故當事人登記聯單、汽車保險理賠計算書、行車執照、趙如麟駕駛執照、統一發票、估價單、車損照片等為證，並有本院依職權向臺北市政府警察局交通警察大隊調閱之道路交通事故調查報告表、道路交通事故初步分析研判表、道路交通事故現場圖、道路交通事故補充資料表、交通事故談話紀錄表、交通事故肇事人自首情形紀錄表、當事人酒精測定紀錄表、交通事故照片等資料在卷可稽；而被告特別代理人於言詞辯論期日到場對於本件原告請求不爭執，堪信原告之主張為真實。四、按汽車、機車或其他非依軌道行駛之動力車輛，在使用中加損害於他人者，駕駛人應賠償因此所生之損害，民法第191條之2前段定有明文；故被告對其使用車輛所生侵權行為，自應負損害賠償責任。次按不法毀損他人之物者，被害人得請求賠償其物因毀損所減少之價額，民法第196條定有明文；又依上開規定請求賠償物被毀損所減少之價額，得以修復費用為估定之標準，但以必要者為限（例如：修理材料以新品換舊品，應予折舊），最高法院77年度第9次民事庭會議決議參照。另依行政院公布之固定資產耐用年數表及固定資產折舊率表，營業自小客車耐用年數為4年，依定率遞減法每年應折舊1000之438，本院爰依行政院所頒固定資產耐用年數表及固定資產折舊率表，採定率遞減法計算系爭車輛之折舊。查系爭車輛因本件車禍事故之修繕費用為37300元，其中零件費用為26000元，此有前開統一發票及估價單可稽，而系爭車輛係於100年3月領照使用，亦有行車執照在卷足憑，則至101年11月14日發生上開車禍事故之日為止，系爭車輛已實際使用1年9月（參照營利事業所得稅結算申報查核準則第95條第6項規定「固定資產提列折舊採用定率遞減法者，以1年為計算單位，其使用期間未滿1年者，按實際使用之月數相當於全年之比例計算之，不滿1月者，以1月計」），則系爭車輛更換零件部分，經扣除折舊後為9812元（計算方式如附表），加計工資及塗裝11300元，原告得向被告請求之車輛修復費用應為21112元。五、綜上所述，原告依保險法第53條規定及侵權行為法律關係，請求被告給付21112元，及自起訴狀繕本送達翌日（即103年12月10日）起至清償日止，按法定利率即年息5%計算之利息，為有理由，應予准許，逾此部分之請求，為無理由，應予駁回。六、本件原告勝訴部分，係就民事訴訟法第436條之8適用小額訴訟程序所為被告敗訴之判決，依同法第436條之20規定，應依職權宣告假執行，並依同法第436條之23準用第436條第2項，適用同法第392條第2項規定，依職權宣告被告如預供擔保，得免為假執行。七、訴訟費用負擔之依據：民事訴訟法第79條。本件訴訟費用額，依後附計算書確定如主文所示金額。中華民國103年12月16日臺北簡易庭法官朱耀平┌─────────────────────────────────┐│附表：│├──┬────────────────┬─────────────┤│年次│折舊額│折舊後餘額│├──┼───┬────────────┼───┬─────────┤││金額│計算方式│金額│計算方式│├──┼───┼────────────┼───┼─────────┤│一│11388│26000×0.438=11388│14612│00000-00000=14612│├──┼───┼────────────┼───┼─────────┤│二│4800│14612×0.438×9/12=4800│9812│00000-0000=9812│├──┴───┴────────────┴───┴─────────┤│註：元以下4捨5入。│└─────────────────────────────────┘上列正本係照原本作成。如不服本判決，應於判決送達後20日內向本院提出上訴狀。（須按他造當事人之人數附繕本）。如委任律師提起上訴者，應一併繳納上訴審裁判費。中華民國103年12月16日書記官陳香伶附錄：一、民事訴訟法第436條之24第2項：對於小額程序之第一審裁判上訴或抗告，非以其違背法令為理由，不得為之。二、民事訴訟法第436條之25：上訴狀內應記載上訴理由，表明下列各款事項：(一)原判決所違背之法令及其具體內容。(二)依訴訟資料可認為原判決有違背法令之具體事實。三、民事訴訟法第436條之32條第2項：第438條至第445條、第448條至第450條、第454條、第455條、第459條、第462條、第463條、第468條、第469條第1款至第5款、第471條至第473條及第475條第1項之規定，於小額事件之上訴程序準用之。計算書項目金額（新臺幣）備註第一審裁判費1000元合計1000元汽車、機車或其他非依軌道行駛之動力車輛，在使用中加損害於他人者，駕駛人應賠償因此所生之損害。但於防止損害之發生，已盡相當之注意者，不在此限。不法毀損他人之物者，被害人得請求賠償其物因毀損所減少之價額。因侵權行為涉訟者，得由行為地之法院管轄。因船舶碰撞或其他海上事故請求損害賠償而涉訟者，得由受損害之船舶最初到達地，或加害船舶被扣留地，或其船籍港之法院管轄。因航空器飛航失事或其他空中事故，請求損害賠償而涉訟者，得由受損害航空器最初降落地，或加害航空器被扣留地之法院管轄。各當事人一部勝訴、一部敗訴者，其訴訟費用，由法院酌量情形，命兩造以比例分擔或命一造負擔，或命兩造各自負擔其支出之訴訟費用。對於小額程序之第一審裁判，得上訴或抗告於管轄之地方法院，其審判以合議行之。對於前項第一審裁判之上訴或抗告，非以其違背法令為理由，不得為之。上訴狀內應記載上訴理由，表明下列各款事項︰一、原判決所違背之法令及其具體內容。二、依訴訟資料可認為原判決有違背法令之具體事實。第四百三十六條之十四、第四百三十六條之十九、第四百三十六條之二十一及第四百三十六條之二十二之規定，於小額事件之上訴程序準用之。第四百三十八條至第四百四十五條、第四百四十八條至第四百五十條、第四百五十四條、第四百五十五條、第四百五十九條、第四百六十二條、第四百六十三條、第四百六十八條、第四百六十九條第一款至第五款、第四百七十一條至第四百七十三條及第四百七十五條第一項之規定，於小額事件之上訴程序準用之。第四編之規定，於小額事件之抗告程序準用之。第五編之規定，於小額事件之再審程序準用之。關於請求給付金錢或其他代替物或有價證券之訴訟，其標的金額或價額在新台幣十萬元以下者，適用本章所定之小額程序。法院認適用小額程序為不適當者，得依職權以裁定改用簡易程序，並由原法官繼續審理。前項裁定，不得聲明不服。第一項之訴訟，其標的金額或價額在新台幣五十萬元以下者，得以當事人之合意適用小額程序，其合意應以文書證之。被保險人因保險人應負保險責任之損失發生，而對於第三人有損失賠償請求權者，保險人得於給付賠償金額後，代位行使被保險人對於第三人之請求權；但其所請求之數額，以不逾賠償金額為限。前項第三人為被保險人之家屬或受僱人時，保險人無代位請求權。但損失係由其故意所致者，不在此限。\n"
     ]
    }
   ],
   "source": [
    "fname = '台北_103_北小_2688.txt'.decode('utf-8')\n",
    "f = open(fname, 'r')\n",
    "text = f.read()\n",
    "f.close\n",
    "\n",
    "newtext = ''.join(text.split())\n",
    "newtext = ''.join(newtext.split(\"　\"))\n",
    "newtext = ''.join(newtext.split(\",\"))\n",
    "#newtext = ''.join(newtext.split(\"】\"))\n",
    "#newtext = ''.join(newtext.split(\"【\"))\n",
    "print newtext"
   ]
  },
  {
   "cell_type": "code",
   "execution_count": 2,
   "metadata": {
    "collapsed": false
   },
   "outputs": [],
   "source": [
    "# Judge\n",
    "import jieba\n",
    "def getJudge(str):\n",
    "    term = ['法官']\n",
    "    words = jieba.cut(str, cut_all=False)\n",
    "    for word in words:\n",
    "        if word == term[0].decode('utf-8'):\n",
    "            return words.next()\n",
    "            break"
   ]
  },
  {
   "cell_type": "code",
   "execution_count": 3,
   "metadata": {
    "collapsed": false
   },
   "outputs": [],
   "source": [
    "# Judge Date\n",
    "import jieba\n",
    "def getJudgeDate(str):\n",
    "    ary =[]\n",
    "    term = ['中華民國']\n",
    "    words = jieba.cut(str.split('法官')[1], cut_all=False)\n",
    "    for word in words:\n",
    "        if word == term[0].decode('utf-8'):\n",
    "            ary.append(int(words.next()))\n",
    "            words.next()\n",
    "            ary.append(int(words.next()))\n",
    "            words.next()\n",
    "            ary.append(int(words.next()))\n",
    "            break\n",
    "    return ary"
   ]
  },
  {
   "cell_type": "code",
   "execution_count": 20,
   "metadata": {
    "collapsed": false
   },
   "outputs": [],
   "source": [
    "# Judge Result\n",
    "def getJudgeResult(str):\n",
    "    results = {'win': True, 'lose': False}\n",
    "    if '原告之訴駁回' in str or '均駁回' in str:\n",
    "        return results['lose']\n",
    "    if '被告應給付原告' in str and '原告其餘之訴駁回' in str:\n",
    "        return results['win']"
   ]
  },
  {
   "cell_type": "code",
   "execution_count": 5,
   "metadata": {
    "collapsed": true
   },
   "outputs": [],
   "source": [
    "# Total Judge Fee\n",
    "import jieba\n",
    "def getJudgeFee(str):\n",
    "    term = ['元合計']\n",
    "    words = jieba.cut(str, cut_all=False)\n",
    "    for word in words:\n",
    "        if word == term[0].decode('utf-8'):\n",
    "            return int(words.next())\n",
    "            break"
   ]
  },
  {
   "cell_type": "code",
   "execution_count": 22,
   "metadata": {
    "collapsed": true
   },
   "outputs": [],
   "source": [
    "# Paintiff Assertion\n",
    "def getAssertionExisting(str):\n",
    "    condition = [False, False]\n",
    "    conditions = [[1, 0], [0, 1], [1, 1], [0, 0]]\n",
    "    if '原告主張' in str or '原告起訴主張' in str:\n",
    "        condition[0] = True\n",
    "    if '被告則以' in str or '被告抗辯' in str:\n",
    "        condition[1] = True\n",
    "    return condition"
   ]
  },
  {
   "cell_type": "code",
   "execution_count": 12,
   "metadata": {
    "collapsed": false
   },
   "outputs": [],
   "source": [
    "# Accident Date\n",
    "import re\n",
    "import jieba\n",
    "def getAccidentDate(str):\n",
    "    delimiter = u\"，|。|、\"\n",
    "    ary = []\n",
    "    for i in re.split(delimiter, ''.join(str.decode('utf-8'))):\n",
    "        if u'被告於民國' in i or u'分許' in i or u'時許' in i :\n",
    "            ary.append(i)\n",
    "\n",
    "    timeAry =[]\n",
    "    term = ['民國']\n",
    "    words = jieba.cut(ary[0], cut_all=False)\n",
    "    for word in words:\n",
    "        if word == term[0].decode('utf-8'):\n",
    "            timeAry.append(int(words.next()))\n",
    "            words.next()\n",
    "            timeAry.append(int(words.next()))\n",
    "            words.next()\n",
    "            timeAry.append(int(words.next()))\n",
    "            break\n",
    "    return timeAry"
   ]
  },
  {
   "cell_type": "markdown",
   "metadata": {},
   "source": [
    "###------Judge Fee------"
   ]
  },
  {
   "cell_type": "code",
   "execution_count": 129,
   "metadata": {
    "collapsed": true
   },
   "outputs": [
    {
     "name": "stdout",
     "output_type": "stream",
     "text": [
      "新\n",
      "臺\n",
      "幣\n",
      "壹仟\n",
      "元\n",
      "由被告負擔\n",
      "十分\n",
      "之六\n",
      "，\n",
      "餘\n",
      "由原告負擔\n",
      "額\n",
      "，\n",
      "依後附\n",
      "計算書\n",
      "確定\n",
      "如\n",
      "主文\n",
      "所示\n",
      "金額\n",
      "。\n",
      "中華民國\n",
      "，\n",
      "由\n",
      "法院\n",
      "酌量\n",
      "情形\n",
      "，\n",
      "命\n",
      "兩造\n",
      "以\n",
      "比例\n",
      "分擔\n",
      "。\n",
      "對\n",
      "於\n",
      "小額\n",
      "程序\n",
      "之\n",
      "第一\n",
      "審\n",
      "裁判\n",
      "，\n",
      "得\n"
     ]
    }
   ],
   "source": [
    "# Judge Fee\n",
    "import jieba\n",
    "whoPaidTerm = ['由被告負擔', '由原告負擔']\n",
    "term = ['訴訟費用']\n",
    "words = jieba.cut(newtext, cut_all=False)\n",
    "for word in words:\n",
    "    if word == term[0].decode('utf-8'):\n",
    "        print words.next()\n",
    "        print words.next()\n",
    "        print words.next()\n",
    "        print words.next()\n",
    "        print words.next()\n",
    "        print words.next()\n",
    "        print words.next()\n",
    "        print words.next()\n",
    "        print words.next()\n",
    "        print words.next()\n",
    "        print words.next()\n",
    "        "
   ]
  },
  {
   "cell_type": "code",
   "execution_count": 182,
   "metadata": {
    "collapsed": false
   },
   "outputs": [
    {
     "name": "stdout",
     "output_type": "stream",
     "text": [
      "十 六\n",
      "[1000.0, 1000.0]\n"
     ]
    }
   ],
   "source": [
    "import re\n",
    "delimiter = u\"，|。|、\"  \n",
    "fee = [0, 0]\n",
    "for i in re.split(delimiter, ''.join(newtext.decode('utf-8'))):\n",
    "    if u'由原告負擔' in i:\n",
    "        fee[0] = float(getJudgeFee(newtext))\n",
    "        if u'分之' in i:\n",
    "            part = i.split('分之')\n",
    "            print part[0].split(u'負擔')[1], part[1]\n",
    "    if u'由被告負擔' in i:\n",
    "        fee[1] = float(getJudgeFee(newtext))\n",
    "        if u'分之' in i:\n",
    "            part = i.split(u'分之')\n",
    "            print part[0].split(u'負擔')[1], part[1]\n",
    "print fee"
   ]
  },
  {
   "cell_type": "code",
   "execution_count": null,
   "metadata": {
    "collapsed": true
   },
   "outputs": [],
   "source": [
    "t = u'訴訟費用新臺幣壹仟元由被告負擔十分之六'\n",
    "tp = t.split(u'分之')\n",
    "print tp[0].split(u'負擔')[1]\n",
    "print tp[1]\n",
    "\n"
   ]
  },
  {
   "cell_type": "markdown",
   "metadata": {},
   "source": [
    "### Note\n",
    "- accidentDate (DONE)\n",
    "    - 被告於民國102年1月31日中午12時13分許\n",
    "    - 民國102年3月3日15時許\n",
    "- judgeResult (DONE)\n",
    "    - need to optimize the key term\n",
    "- judgeFee\n",
    "    - there's no judge fee in number show up at the end, should also get it from top/end by the chinese char\n",
    "    - 訴訟費用新臺幣壹仟元由被告負擔十分之六，餘由原告負擔。\n",
    "    - 訴訟費用（除減縮部分外）由被告負擔百分之三十九，餘由原告負擔。\n",
    "    - 訴訟費用新臺幣壹仟元由被告負擔。\n",
    "    - 訴訟費用新臺幣柒佰元由被告負擔，餘由原告負擔。\n",
    "    - 訴訟費用新臺幣壹仟元，其中新臺幣肆佰壹拾貳元由被告負擔，餘由原告負擔。\n",
    "    - 訴訟費用由被告負擔新台幣陸佰陸拾元，餘新台幣肆拾陸元由原告負擔。\n",
    "    - 訴訟費用由被告負擔三十五分之一，餘由原告負擔。\n",
    "    - 訴訟費用由被告連帶負擔。\n",
    "    - 訴訟費用新臺幣壹仟元由原告負擔。\n",
    "- itemsOfDamage\n",
    "    - example\n",
    "- JudgeDate\n",
    "    - wrong one"
   ]
  },
  {
   "cell_type": "markdown",
   "metadata": {},
   "source": [
    "###------Run Code------"
   ]
  },
  {
   "cell_type": "code",
   "execution_count": 24,
   "metadata": {
    "collapsed": false
   },
   "outputs": [
    {
     "name": "stdout",
     "output_type": "stream",
     "text": [
      "judgeReason : GONE...\n",
      "defendantFee : \n",
      "itemsOfDamage : []\n",
      "judgeDate : [103, 12, 16]\n",
      "accidentDate : [101, 11, 14]\n",
      "plaintiffFee : \n",
      "judge : 朱耀平\n",
      "court : 台北\n",
      "judgeFee : 1000\n",
      "judgeResult : True\n",
      "judgeId : 103_北小_2688\n",
      "assertionExisting : [True, False]\n"
     ]
    }
   ],
   "source": [
    "dic = {'court':fname[:2],\n",
    "       'judgeResult':getJudgeResult(newtext),\n",
    "       'plaintiffFee':'',\n",
    "       'defendantFee':'',\n",
    "       'itemsOfDamage':[],\n",
    "       'accidentDate':getAccidentDate(newtext),\n",
    "       'judgeDate': getJudgeDate(newtext),\n",
    "       'assertionExisting':getAssertionExisting(newtext),\n",
    "       'judge': getJudge(newtext),\n",
    "       'judgeFee':getJudgeFee(newtext),\n",
    "       'judgeReason':'GONE...',\n",
    "       'judgeId':fname[3:-4]}\n",
    "for attr in dic:\n",
    "    print attr, ':', dic[attr]"
   ]
  },
  {
   "cell_type": "code",
   "execution_count": null,
   "metadata": {
    "collapsed": true
   },
   "outputs": [],
   "source": []
  }
 ],
 "metadata": {
  "kernelspec": {
   "display_name": "Python 2",
   "language": "python",
   "name": "python2"
  },
  "language_info": {
   "codemirror_mode": {
    "name": "ipython",
    "version": 2
   },
   "file_extension": ".py",
   "mimetype": "text/x-python",
   "name": "python",
   "nbconvert_exporter": "python",
   "pygments_lexer": "ipython2",
   "version": "2.7.10"
  }
 },
 "nbformat": 4,
 "nbformat_minor": 0
}
